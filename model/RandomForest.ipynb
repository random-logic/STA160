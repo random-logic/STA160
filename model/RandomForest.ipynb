{
 "cells": [
  {
   "cell_type": "code",
   "execution_count": 19,
   "id": "4dad66aa",
   "metadata": {},
   "outputs": [],
   "source": [
    "import pandas as pd\n",
    "import numpy as np\n",
    "from sklearn.pipeline import Pipeline\n",
    "from sklearn.ensemble import RandomForestRegressor\n",
    "from sklearn.metrics import mean_squared_error, r2_score"
   ]
  },
  {
   "cell_type": "code",
   "execution_count": 20,
   "id": "b22cc29f",
   "metadata": {},
   "outputs": [],
   "source": [
    "import sys\n",
    "import importlib\n",
    "sys.path.append('..')\n",
    "import preprocessing.pipeline\n",
    "importlib.reload(preprocessing.pipeline)\n",
    "from preprocessing.pipeline import get_preprocessor"
   ]
  },
  {
   "cell_type": "code",
   "execution_count": 21,
   "id": "41b66ffe",
   "metadata": {},
   "outputs": [],
   "source": [
    "train = pd.read_csv(\"../data/train.csv\")\n",
    "X_test = pd.read_csv(\"../data/test.csv\")\n",
    "\n",
    "X_train = train.drop(\"SalePrice\", axis=1)\n",
    "y_train = train[\"SalePrice\"]"
   ]
  },
  {
   "cell_type": "code",
   "execution_count": 22,
   "id": "6069c251",
   "metadata": {},
   "outputs": [
    {
     "name": "stdout",
     "output_type": "stream",
     "text": [
      "Train RMSE: 10748.37\n",
      "Train R² Score: 0.9817\n"
     ]
    }
   ],
   "source": [
    "# === Build preprocessing + modeling pipeline ===\n",
    "model_pipeline = Pipeline([\n",
    "  (\"preprocessor\", get_preprocessor()),\n",
    "  (\"model\", RandomForestRegressor(n_estimators=100, random_state=42))\n",
    "])\n",
    "\n",
    "# === Fit the model ===\n",
    "model_pipeline.fit(X_train, np.log1p(y_train)) # log(1 + y) to handle zeros\n",
    "\n",
    "# === Predict on training data ===\n",
    "y_pred_log = model_pipeline.predict(X_train)\n",
    "\n",
    "# === Inverse transform the prediction ===\n",
    "y_pred = np.expm1(y_pred_log)  # inverse of log1p\n",
    "\n",
    "# === Evaluate ===\n",
    "rmse = np.sqrt(mean_squared_error(y_train, y_pred))\n",
    "r2 = r2_score(y_train, y_pred)\n",
    "\n",
    "print(f\"Train RMSE: {rmse:.2f}\")\n",
    "print(f\"Train R² Score: {r2:.4f}\")"
   ]
  },
  {
   "cell_type": "code",
   "execution_count": 23,
   "id": "40cc7dbf",
   "metadata": {},
   "outputs": [],
   "source": [
    "# === Predict on test data ===\n",
    "y_test_pred_log = model_pipeline.predict(X_test)\n",
    "y_test_pred = np.expm1(y_test_pred_log)"
   ]
  },
  {
   "cell_type": "code",
   "execution_count": 26,
   "id": "9c474c77",
   "metadata": {},
   "outputs": [
    {
     "data": {
      "text/html": [
       "<div>\n",
       "<style scoped>\n",
       "    .dataframe tbody tr th:only-of-type {\n",
       "        vertical-align: middle;\n",
       "    }\n",
       "\n",
       "    .dataframe tbody tr th {\n",
       "        vertical-align: top;\n",
       "    }\n",
       "\n",
       "    .dataframe thead th {\n",
       "        text-align: right;\n",
       "    }\n",
       "</style>\n",
       "<table border=\"1\" class=\"dataframe\">\n",
       "  <thead>\n",
       "    <tr style=\"text-align: right;\">\n",
       "      <th></th>\n",
       "      <th>Id</th>\n",
       "      <th>SalePrice</th>\n",
       "    </tr>\n",
       "  </thead>\n",
       "  <tbody>\n",
       "    <tr>\n",
       "      <th>0</th>\n",
       "      <td>1461</td>\n",
       "      <td>124202.372111</td>\n",
       "    </tr>\n",
       "    <tr>\n",
       "      <th>1</th>\n",
       "      <td>1462</td>\n",
       "      <td>154596.987419</td>\n",
       "    </tr>\n",
       "    <tr>\n",
       "      <th>2</th>\n",
       "      <td>1463</td>\n",
       "      <td>179139.570973</td>\n",
       "    </tr>\n",
       "    <tr>\n",
       "      <th>3</th>\n",
       "      <td>1464</td>\n",
       "      <td>183541.290397</td>\n",
       "    </tr>\n",
       "    <tr>\n",
       "      <th>4</th>\n",
       "      <td>1465</td>\n",
       "      <td>195917.291446</td>\n",
       "    </tr>\n",
       "  </tbody>\n",
       "</table>\n",
       "</div>"
      ],
      "text/plain": [
       "     Id      SalePrice\n",
       "0  1461  124202.372111\n",
       "1  1462  154596.987419\n",
       "2  1463  179139.570973\n",
       "3  1464  183541.290397\n",
       "4  1465  195917.291446"
      ]
     },
     "execution_count": 26,
     "metadata": {},
     "output_type": "execute_result"
    }
   ],
   "source": [
    "# === Wrap in DataFrame (e.g., for submission) ===\n",
    "submission = pd.DataFrame({\n",
    "  \"Id\": X_test[\"Id\"],  # assuming 'Id' is in test data\n",
    "  \"SalePrice\": y_test_pred\n",
    "})\n",
    "\n",
    "submission.head()"
   ]
  },
  {
   "cell_type": "code",
   "execution_count": null,
   "id": "b21361f3",
   "metadata": {},
   "outputs": [],
   "source": [
    "submission.to_csv(\"../data/submission.csv\", index=False)"
   ]
  }
 ],
 "metadata": {
  "kernelspec": {
   "display_name": "STA160",
   "language": "python",
   "name": "python3"
  },
  "language_info": {
   "codemirror_mode": {
    "name": "ipython",
    "version": 3
   },
   "file_extension": ".py",
   "mimetype": "text/x-python",
   "name": "python",
   "nbconvert_exporter": "python",
   "pygments_lexer": "ipython3",
   "version": "3.12.9"
  }
 },
 "nbformat": 4,
 "nbformat_minor": 5
}
