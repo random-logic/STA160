{
 "cells": [
  {
   "cell_type": "code",
   "execution_count": 1,
   "id": "6fbb0379",
   "metadata": {},
   "outputs": [],
   "source": [
    "import pandas as pd\n",
    "import matplotlib.pyplot as plt\n",
    "import seaborn as sns"
   ]
  },
  {
   "cell_type": "code",
   "execution_count": 2,
   "id": "57f2a3d2",
   "metadata": {},
   "outputs": [],
   "source": [
    "# Load the dataset\n",
    "df = pd.read_csv('../data/train.csv')"
   ]
  },
  {
   "cell_type": "markdown",
   "id": "4f99b6d9",
   "metadata": {},
   "source": [
    "### Handle Missing Garage Years"
   ]
  },
  {
   "cell_type": "code",
   "execution_count": 3,
   "id": "fa86ea66",
   "metadata": {},
   "outputs": [],
   "source": [
    "def bin_garage_year(year):\n",
    "    if pd.isnull(year):\n",
    "        return 'NoGarage'\n",
    "    elif year < 1940:\n",
    "        return 'Before1940'\n",
    "    elif year < 1960:\n",
    "        return '1940-1959'\n",
    "    elif year < 1980:\n",
    "        return '1960-1979'\n",
    "    elif year < 2000:\n",
    "        return '1980-1999'\n",
    "    elif year < 2010:\n",
    "        return '2000-2009'\n",
    "    else:\n",
    "        return '2010+'\n",
    "\n",
    "df['GarageYrBlt'] = df['GarageYrBlt'].apply(bin_garage_year).astype('category')"
   ]
  },
  {
   "cell_type": "markdown",
   "id": "617e09b9",
   "metadata": {},
   "source": [
    "### Handle MasVnrArea"
   ]
  },
  {
   "cell_type": "code",
   "execution_count": 4,
   "id": "bb896d28",
   "metadata": {},
   "outputs": [],
   "source": [
    "df['MasVnrArea'] = df['MasVnrArea'].fillna(0)"
   ]
  },
  {
   "cell_type": "markdown",
   "id": "08d1d15a",
   "metadata": {},
   "source": [
    "### Handle Lot Frontage"
   ]
  },
  {
   "cell_type": "code",
   "execution_count": 5,
   "id": "91c4ef0e",
   "metadata": {},
   "outputs": [],
   "source": [
    "from sklearn.ensemble import RandomForestRegressor\n",
    "\n",
    "# Split into missing and non-missing\n",
    "df_known = df[df['LotFrontage'].notnull()]\n",
    "df_missing = df[df['LotFrontage'].isnull()]\n",
    "\n",
    "# Use only relevant predictors\n",
    "features = ['LotArea', 'Neighborhood', 'Street', 'LotConfig']\n",
    "X_train = pd.get_dummies(df_known[features])\n",
    "y_train = df_known['LotFrontage']\n",
    "X_missing = pd.get_dummies(df_missing[features])\n",
    "\n",
    "# Align columns in case of one-hot mismatch\n",
    "X_missing = X_missing.reindex(columns=X_train.columns, fill_value=0)\n",
    "\n",
    "# Train and predict\n",
    "model = RandomForestRegressor(n_estimators=100, random_state=0)\n",
    "model.fit(X_train, y_train)\n",
    "df.loc[df['LotFrontage'].isnull(), 'LotFrontage'] = model.predict(X_missing)"
   ]
  },
  {
   "cell_type": "code",
   "execution_count": 6,
   "id": "7df1bbd3",
   "metadata": {},
   "outputs": [
    {
     "data": {
      "text/plain": [
       "['lot_frontage_imputer.pkl']"
      ]
     },
     "execution_count": 6,
     "metadata": {},
     "output_type": "execute_result"
    }
   ],
   "source": [
    "import joblib\n",
    "\n",
    "# Save\n",
    "joblib.dump(model, 'lot_frontage_imputer.pkl')"
   ]
  },
  {
   "cell_type": "code",
   "execution_count": null,
   "id": "6ae8f657",
   "metadata": {},
   "outputs": [],
   "source": []
  }
 ],
 "metadata": {
  "kernelspec": {
   "display_name": "STA160",
   "language": "python",
   "name": "python3"
  },
  "language_info": {
   "codemirror_mode": {
    "name": "ipython",
    "version": 3
   },
   "file_extension": ".py",
   "mimetype": "text/x-python",
   "name": "python",
   "nbconvert_exporter": "python",
   "pygments_lexer": "ipython3",
   "version": "3.12.9"
  }
 },
 "nbformat": 4,
 "nbformat_minor": 5
}
